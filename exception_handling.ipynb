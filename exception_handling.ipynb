{
 "cells": [
  {
   "cell_type": "code",
   "execution_count": 11,
   "metadata": {},
   "outputs": [
    {
     "name": "stdout",
     "output_type": "stream",
     "text": [
      "인덱스 범위를 벗어났습니다. :  list index out of range\n"
     ]
    }
   ],
   "source": [
    "#에러 종류 명시하여 에러 내용 출력- 변수 지정 가능\n",
    "\n",
    "a = [1,2,3]\n",
    "try :\n",
    "    # print(10/0) #첫번재 오류에 대해서만 처리\n",
    "    print(a[4]) #처리 되지 않고 위에서 끝남\n",
    "\n",
    "except ZeroDivisionError as e :\n",
    "    print(\"0으로 나눌 수 없습니다. : \",e)\n",
    "except IndexError as e :\n",
    "    print(\"인덱스 범위를 벗어났습니다. : \" , e)"
   ]
  },
  {
   "cell_type": "code",
   "execution_count": 8,
   "metadata": {},
   "outputs": [
    {
     "name": "stdout",
     "output_type": "stream",
     "text": [
      "종료\n"
     ]
    }
   ],
   "source": [
    "#파일 읽어오기 수행\n",
    "#파일 없으면 그냥 pass 하고 있으면 읽고 출력\n",
    "\n",
    "try : \n",
    "    f= open(\"exception.txt\", 'r')\n",
    "\n",
    "except FileNotFoundError :\n",
    "    pass\n",
    "\n",
    "else :\n",
    "    data = f.read()\n",
    "    print(data)\n",
    "    f.close()\n",
    "finally: #있어도 되고 없어도 되고\n",
    "print(\"종료\")\n"
   ]
  },
  {
   "cell_type": "code",
   "execution_count": 13,
   "metadata": {},
   "outputs": [
    {
     "name": "stdout",
     "output_type": "stream",
     "text": [
      "숫자(정수)가 아닙니다.\n",
      "프로그램을 종료합니다.\n"
     ]
    }
   ],
   "source": [
    "#특정 예외에 대한 처리\n",
    "#숫자를 입력하지 않은 경우 value Error, 정수형 숫자만 입력 받아야 되는 경우\n",
    "#finally : 예외 발생 여부에 상관없이 항상 수행되는 블록\n",
    "\n",
    "try :\n",
    "    num=int(input(\"숫자를 입력하세요:\"))\n",
    "except ValueError :\n",
    "    print('숫자(정수)가 아닙니다.')\n",
    "else :\n",
    "    print(num)\n",
    "finally :\n",
    "    print('프로그램을 종료합니다.')\n",
    "\n"
   ]
  },
  {
   "cell_type": "markdown",
   "metadata": {},
   "source": [
    "에러 종류 상관 없이, 에러가 발생하기만 하면 except 블록 수행\n",
    "- 어떤 에러가 발생했는지 파악하기 위해서는 에러 메세지를 받아야 함"
   ]
  },
  {
   "cell_type": "code",
   "execution_count": 14,
   "metadata": {},
   "outputs": [
    {
     "name": "stdout",
     "output_type": "stream",
     "text": [
      "오류발생\n"
     ]
    }
   ],
   "source": [
    "try :\n",
    "    print(10/0) #오류발생\n",
    "    print(\"나이\" +23)\n",
    "except :\n",
    "    print('오류발생') #정상종료"
   ]
  },
  {
   "cell_type": "code",
   "execution_count": 10,
   "metadata": {},
   "outputs": [
    {
     "name": "stdout",
     "output_type": "stream",
     "text": [
      "오류발생\n"
     ]
    }
   ],
   "source": [
    "#최상위 에러인 Exception 만 적어도 됌\n",
    "try :\n",
    "    print(10/0) #오류발생\n",
    "    print(\"나이\" +23)\n",
    "except Exception:\n",
    "    print('오류발생') #정상종료"
   ]
  },
  {
   "cell_type": "code",
   "execution_count": null,
   "metadata": {},
   "outputs": [],
   "source": []
  }
 ],
 "metadata": {
  "kernelspec": {
   "display_name": "Python 3.10.5 64-bit",
   "language": "python",
   "name": "python3"
  },
  "language_info": {
   "codemirror_mode": {
    "name": "ipython",
    "version": 3
   },
   "file_extension": ".py",
   "mimetype": "text/x-python",
   "name": "python",
   "nbconvert_exporter": "python",
   "pygments_lexer": "ipython3",
   "version": "3.10.5"
  },
  "orig_nbformat": 4,
  "vscode": {
   "interpreter": {
    "hash": "ba631fd18c6ba4f2745f674ee284c5c9aa26a46ab7315e6d5db064e0987f2c32"
   }
  }
 },
 "nbformat": 4,
 "nbformat_minor": 2
}
